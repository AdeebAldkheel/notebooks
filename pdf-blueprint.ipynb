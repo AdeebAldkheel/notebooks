{
 "cells": [
  {
   "cell_type": "markdown",
   "metadata": {
    "vscode": {
     "languageId": "plaintext"
    }
   },
   "source": [
    "<!-- Banner Image -->\n",
    "<img src=\"https://uohmivykqgnnbiouffke.supabase.co/storage/v1/object/public/landingpage/brevdevnotebooks.png\" width=\"100%\">\n",
    "\n",
    "<!-- Links -->\n",
    "<center>\n",
    "  <a href=\"https://console.brev.dev\" style=\"color: #06b6d4;\">Console</a> •\n",
    "  <a href=\"https://brev.dev\" style=\"color: #06b6d4;\">Docs</a> •\n",
    "  <a href=\"/\" style=\"color: #06b6d4;\">Templates</a> •\n",
    "  <a href=\"https://discord.gg/NVDyv7TUgJ\" style=\"color: #06b6d4;\">Discord</a>\n",
    "</center>\n",
    "\n",
    "# Try out the NVIDIA Multimodal PDF Data Extraction Blueprint! 🤙\n",
    "\n",
    "Welcome!\n",
    "\n",
    "In this notebook, we will run inference on the new NVIDIA Multimodal PDF Data Extraction Blueprint. This blueprint uses a state-of-the-art multimodal model to extract data from PDFs, PowerPoints, and images. \n",
    "\n",
    "\n",
    "**Important Notes**: \n",
    "1. In order to run this notebook, you need to visit NGC and get a key for the Multimodal PDF Data Extraction Blueprint.\n",
    "3. **Because this model uses a 2xA100 cluster, it can get expensive to leave on for a long time. If you're looking to host this workflow permanently, please reach out to the Brev team and we can chat!**\n",
    "\n",
    "### Help us make this tutorial better! Please provide feedback on the [Discord channel](https://discord.gg/y9428NwTh3) or on [X](https://x.com/brevdev)."
   ]
  },
  {
   "cell_type": "markdown",
   "metadata": {},
   "source": [
    "# Introduction\n",
    "\n",
    "NVIDIA-Ingest is a scalable, performance-oriented document content and metadata extraction microservice. Including support for parsing PDFs, Word and PowerPoint documents, it uses specialized NVIDIA NIM microservices to find, contextualize, and extract text, tables, charts and images for use in downstream generative applications.\n",
    "\n",
    "NVIDIA Ingest enables parallelization of the process of splitting documents into pages where contents are classified (as tables, charts, images, text), extracted into discrete content, and further contextualized via optical character recognition (OCR) into a well defined JSON schema. From there, NVIDIA Ingest can optionally manage computation of embeddings for the extracted content, and also optionally manage storing into a vector database Milvus."
   ]
  },
  {
   "cell_type": "markdown",
   "metadata": {
    "vscode": {
     "languageId": "plaintext"
    }
   },
   "source": [
    "# Architecture\n",
    "\n",
    "include that literally unreadable goofy picture here"
   ]
  },
  {
   "cell_type": "markdown",
   "metadata": {
    "vscode": {
     "languageId": "plaintext"
    }
   },
   "source": [
    "# Getting started\n",
    "\n",
    "1. create a python function where user can provide the 3 inputs and it create the .env\n",
    "2. Provide the command that a user should run in the terminal to docker compose\n",
    "3. Ensure the relevant outputs are up\n",
    "4. Show 2-3 examples of the ingestion "
   ]
  }
 ],
 "metadata": {
  "language_info": {
   "name": "python"
  }
 },
 "nbformat": 4,
 "nbformat_minor": 2
}
